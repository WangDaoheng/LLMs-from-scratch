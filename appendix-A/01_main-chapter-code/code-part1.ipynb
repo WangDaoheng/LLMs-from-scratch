{
 "cells": [
  {
   "cell_type": "markdown",
   "id": "f896245e-57c4-48fd-854f-9e43f22e10c9",
   "metadata": {},
   "source": [
    "<table style=\"width:100%\">\n",
    "<tr>\n",
    "<td style=\"vertical-align:middle; text-align:left;\">\n",
    "<font size=\"2\">\n",
    "Supplementary code for the <a href=\"http://mng.bz/orYv\">Build a Large Language Model From Scratch</a> book by <a href=\"https://sebastianraschka.com\">Sebastian Raschka</a><br>\n",
    "<br>Code repository: <a href=\"https://github.com/rasbt/LLMs-from-scratch\">https://github.com/rasbt/LLMs-from-scratch</a>\n",
    "</font>\n",
    "</td>\n",
    "<td style=\"vertical-align:middle; text-align:left;\">\n",
    "<a href=\"http://mng.bz/orYv\"><img src=\"https://sebastianraschka.com/images/LLMs-from-scratch-images/cover-small.webp\" width=\"100px\"></a>\n",
    "</td>\n",
    "</tr>\n",
    "</table>\n"
   ]
  },
  {
   "cell_type": "markdown",
   "id": "ca7fc8a0-280c-4979-b0c7-fc3a99b3b785",
   "metadata": {},
   "source": [
    "# Appendix A: Introduction to PyTorch (Part 1)"
   ]
  },
  {
   "cell_type": "markdown",
   "id": "f5bf13d2-8fc2-483e-88cc-6b4310221e68",
   "metadata": {},
   "source": [
    "## A.1 What is PyTorch"
   ]
  },
  {
   "metadata": {
    "ExecuteTime": {
     "end_time": "2024-12-21T13:17:50.458023Z",
     "start_time": "2024-12-21T13:17:50.436081Z"
    }
   },
   "cell_type": "code",
   "source": [
    "import sys\n",
    "print(sys.version)"
   ],
   "id": "1ccbc8d0cb87f583",
   "outputs": [
    {
     "name": "stdout",
     "output_type": "stream",
     "text": [
      "3.10.11 (tags/v3.10.11:7d4cc5a, Apr  5 2023, 00:38:17) [MSC v.1929 64 bit (AMD64)]\n"
     ]
    }
   ],
   "execution_count": 1
  },
  {
   "cell_type": "code",
   "id": "96ee5660-5327-48e2-9104-a882b3b2afa4",
   "metadata": {
    "ExecuteTime": {
     "end_time": "2024-12-21T13:19:56.989856Z",
     "start_time": "2024-12-21T13:19:53.228877Z"
    }
   },
   "source": [
    "import torch\n",
    "\n",
    "print(torch.__version__)"
   ],
   "outputs": [
    {
     "name": "stdout",
     "output_type": "stream",
     "text": [
      "2.5.1+cu124\n"
     ]
    }
   ],
   "execution_count": 3
  },
  {
   "cell_type": "code",
   "id": "f73ad4e4-7ec6-4467-a9e9-0cdf6d195264",
   "metadata": {
    "ExecuteTime": {
     "end_time": "2024-12-21T13:21:51.198318Z",
     "start_time": "2024-12-21T13:21:50.192753Z"
    }
   },
   "source": [
    "print(torch.cuda.is_available())"
   ],
   "outputs": [
    {
     "name": "stdout",
     "output_type": "stream",
     "text": [
      "True\n"
     ]
    }
   ],
   "execution_count": 4
  },
  {
   "cell_type": "markdown",
   "id": "397ba1ab-3306-4965-8618-1ed5f24fb939",
   "metadata": {},
   "source": "![Image](./1.jpg)"
  },
  {
   "metadata": {},
   "cell_type": "markdown",
   "source": "![Image](./2.jpg)",
   "id": "d287423468ea7f85"
  },
  {
   "metadata": {},
   "cell_type": "markdown",
   "source": "![Image](./3.jpg)",
   "id": "6b59271324f8ccf9"
  },
  {
   "metadata": {},
   "cell_type": "markdown",
   "source": "![Image](./4.jpg)",
   "id": "fe18e0f60352d2dc"
  },
  {
   "metadata": {},
   "cell_type": "markdown",
   "source": "![Image](./5.jpg)",
   "id": "a506d8ad66b325d2"
  },
  {
   "cell_type": "markdown",
   "id": "2100cf2e-7459-4ab3-92a8-43e86ab35a9b",
   "metadata": {},
   "source": [
    "## A.2 Understanding tensors"
   ]
  },
  {
   "cell_type": "markdown",
   "id": "3c484e87-bfc9-4105-b0a7-1e23b2a72a30",
   "metadata": {},
   "source": "![Image](./6.jpg)"
  },
  {
   "cell_type": "markdown",
   "id": "26d7f785-e048-42bc-9182-a556af6bb7f4",
   "metadata": {},
   "source": [
    "### A.2.1 Scalars, vectors, matrices, and tensors"
   ]
  },
  {
   "cell_type": "code",
   "id": "a3a464d6-cec8-4363-87bd-ea4f900baced",
   "metadata": {
    "ExecuteTime": {
     "end_time": "2024-12-22T02:48:58.245927Z",
     "start_time": "2024-12-22T02:48:48.612905Z"
    }
   },
   "source": [
    "import torch\n",
    "import numpy as np\n",
    "\n",
    "# create a 0D tensor (scalar) from a Python integer\n",
    "tensor0d = torch.tensor(1)\n",
    "\n",
    "# create a 1D tensor (vector) from a Python list\n",
    "tensor1d = torch.tensor([1, 2, 3])\n",
    "\n",
    "# create a 2D tensor from a nested Python list\n",
    "tensor2d = torch.tensor([[1, 2], \n",
    "                         [3, 4]])\n",
    "\n",
    "# create a 3D tensor from a nested Python list\n",
    "tensor3d_1 = torch.tensor([[[1, 2], [3, 4]], \n",
    "                           [[5, 6], [7, 8]]])\n",
    "\n",
    "# create a 3D tensor from NumPy array\n",
    "ary3d = np.array([[[1, 2], [3, 4]], \n",
    "                  [[5, 6], [7, 8]]])\n",
    "tensor3d_2 = torch.tensor(ary3d)  # Copies NumPy array\n",
    "tensor3d_3 = torch.from_numpy(ary3d)  # Shares memory with NumPy array"
   ],
   "outputs": [],
   "execution_count": 1
  },
  {
   "metadata": {
    "ExecuteTime": {
     "end_time": "2024-12-22T03:09:47.717794Z",
     "start_time": "2024-12-22T03:09:47.704825Z"
    }
   },
   "cell_type": "code",
   "source": "tensor3d_3",
   "id": "2b09193bd6e4abb9",
   "outputs": [
    {
     "data": {
      "text/plain": [
       "tensor([[[1, 2],\n",
       "         [3, 4]],\n",
       "\n",
       "        [[5, 6],\n",
       "         [7, 8]]], dtype=torch.int32)"
      ]
     },
     "execution_count": 6,
     "metadata": {},
     "output_type": "execute_result"
    }
   ],
   "execution_count": 6
  },
  {
   "cell_type": "code",
   "id": "dbe14c47-499a-4d48-b354-a0e6fd957872",
   "metadata": {
    "ExecuteTime": {
     "end_time": "2024-12-22T03:11:24.291336Z",
     "start_time": "2024-12-22T03:11:24.281364Z"
    }
   },
   "source": [
    "ary3d[0, 0, 0] = 999\n",
    "print(tensor3d_2) # remains unchanged"
   ],
   "outputs": [
    {
     "name": "stdout",
     "output_type": "stream",
     "text": [
      "tensor([[[1, 2],\n",
      "         [3, 4]],\n",
      "\n",
      "        [[5, 6],\n",
      "         [7, 8]]], dtype=torch.int32)\n"
     ]
    }
   ],
   "execution_count": 7
  },
  {
   "cell_type": "code",
   "id": "e3e4c23a-cdba-46f5-a2dc-5fb32bf9117b",
   "metadata": {
    "ExecuteTime": {
     "end_time": "2024-12-22T03:14:00.072783Z",
     "start_time": "2024-12-22T03:14:00.061777Z"
    }
   },
   "source": [
    "print(tensor3d_3) # changes because of memory sharing"
   ],
   "outputs": [
    {
     "name": "stdout",
     "output_type": "stream",
     "text": [
      "tensor([[[999,   2],\n",
      "         [  3,   4]],\n",
      "\n",
      "        [[  5,   6],\n",
      "         [  7,   8]]], dtype=torch.int32)\n"
     ]
    }
   ],
   "execution_count": 8
  },
  {
   "cell_type": "markdown",
   "id": "63dec48d-2b60-41a2-ac06-fef7e718605a",
   "metadata": {},
   "source": [
    "### A.2.2 Tensor data types"
   ]
  },
  {
   "cell_type": "code",
   "id": "3f48c014-e1a2-4a53-b5c5-125812d4034c",
   "metadata": {
    "ExecuteTime": {
     "end_time": "2024-12-22T03:14:19.201351Z",
     "start_time": "2024-12-22T03:14:19.192374Z"
    }
   },
   "source": [
    "tensor1d = torch.tensor([1, 2, 3])\n",
    "print(tensor1d.dtype)"
   ],
   "outputs": [
    {
     "name": "stdout",
     "output_type": "stream",
     "text": [
      "torch.int64\n"
     ]
    }
   ],
   "execution_count": 9
  },
  {
   "metadata": {
    "ExecuteTime": {
     "end_time": "2024-12-22T03:14:52.132940Z",
     "start_time": "2024-12-22T03:14:52.120969Z"
    }
   },
   "cell_type": "code",
   "source": "tensor1d.dtype",
   "id": "5f89df30553c98e0",
   "outputs": [
    {
     "data": {
      "text/plain": [
       "torch.int64"
      ]
     },
     "execution_count": 11,
     "metadata": {},
     "output_type": "execute_result"
    }
   ],
   "execution_count": 11
  },
  {
   "cell_type": "code",
   "id": "5429a086-9de2-4ac7-9f14-d087a7507394",
   "metadata": {
    "ExecuteTime": {
     "end_time": "2024-12-22T03:15:05.182974Z",
     "start_time": "2024-12-22T03:15:05.167019Z"
    }
   },
   "source": [
    "floatvec = torch.tensor([1.0, 2.0, 3.0])\n",
    "print(floatvec.dtype)"
   ],
   "outputs": [
    {
     "name": "stdout",
     "output_type": "stream",
     "text": [
      "torch.float32\n"
     ]
    }
   ],
   "execution_count": 12
  },
  {
   "cell_type": "code",
   "id": "a9a438d1-49bb-481c-8442-7cc2bb3dd4af",
   "metadata": {
    "ExecuteTime": {
     "end_time": "2024-12-22T03:15:21.183600Z",
     "start_time": "2024-12-22T03:15:21.164651Z"
    }
   },
   "source": [
    "floatvec = tensor1d.to(torch.float32)\n",
    "print(floatvec.dtype)"
   ],
   "outputs": [
    {
     "name": "stdout",
     "output_type": "stream",
     "text": [
      "torch.float32\n"
     ]
    }
   ],
   "execution_count": 13
  },
  {
   "metadata": {
    "ExecuteTime": {
     "end_time": "2024-12-22T03:16:15.587575Z",
     "start_time": "2024-12-22T03:16:15.574610Z"
    }
   },
   "cell_type": "code",
   "source": "floatvec.to(torch.int32).to(torch.float32)",
   "id": "1b58ee65ccf5027d",
   "outputs": [
    {
     "data": {
      "text/plain": [
       "tensor([1., 2., 3.])"
      ]
     },
     "execution_count": 16,
     "metadata": {},
     "output_type": "execute_result"
    }
   ],
   "execution_count": 16
  },
  {
   "cell_type": "markdown",
   "id": "2020deb5-aa02-4524-b311-c010f4ad27ff",
   "metadata": {},
   "source": [
    "### A.2.3 Common PyTorch tensor operations"
   ]
  },
  {
   "cell_type": "code",
   "id": "c02095f2-8a48-4953-b3c9-5313d4362ce7",
   "metadata": {
    "ExecuteTime": {
     "end_time": "2024-12-22T03:45:48.116686Z",
     "start_time": "2024-12-22T03:45:48.104721Z"
    }
   },
   "source": [
    "tensor2d = torch.tensor([[1, 2, 3], \n",
    "                         [4, 5, 6]])\n",
    "tensor2d"
   ],
   "outputs": [
    {
     "data": {
      "text/plain": [
       "tensor([[1, 2, 3],\n",
       "        [4, 5, 6]])"
      ]
     },
     "execution_count": 25,
     "metadata": {},
     "output_type": "execute_result"
    }
   ],
   "execution_count": 25
  },
  {
   "cell_type": "code",
   "id": "f33e1d45-5b2c-4afe-b4b2-66ac4099fd1a",
   "metadata": {
    "ExecuteTime": {
     "end_time": "2024-12-22T03:45:55.977425Z",
     "start_time": "2024-12-22T03:45:55.967448Z"
    }
   },
   "source": [
    "tensor2d.shape"
   ],
   "outputs": [
    {
     "data": {
      "text/plain": [
       "torch.Size([2, 3])"
      ]
     },
     "execution_count": 26,
     "metadata": {},
     "output_type": "execute_result"
    }
   ],
   "execution_count": 26
  },
  {
   "cell_type": "code",
   "id": "f3a4129d-f870-4e03-9c32-cd8521cb83fe",
   "metadata": {
    "ExecuteTime": {
     "end_time": "2024-12-22T03:46:05.760394Z",
     "start_time": "2024-12-22T03:46:05.739452Z"
    }
   },
   "source": [
    "tensor2d.reshape(3, 2)"
   ],
   "outputs": [
    {
     "data": {
      "text/plain": [
       "tensor([[1, 2],\n",
       "        [3, 4],\n",
       "        [5, 6]])"
      ]
     },
     "execution_count": 27,
     "metadata": {},
     "output_type": "execute_result"
    }
   ],
   "execution_count": 27
  },
  {
   "metadata": {
    "ExecuteTime": {
     "end_time": "2024-12-22T03:46:16.059923Z",
     "start_time": "2024-12-22T03:46:16.051944Z"
    }
   },
   "cell_type": "code",
   "source": "tensor2d",
   "id": "f0673817cf4be32e",
   "outputs": [
    {
     "data": {
      "text/plain": [
       "tensor([[1, 2, 3],\n",
       "        [4, 5, 6]])"
      ]
     },
     "execution_count": 28,
     "metadata": {},
     "output_type": "execute_result"
    }
   ],
   "execution_count": 28
  },
  {
   "cell_type": "code",
   "id": "589ac0a7-adc7-41f3-b721-155f580e9369",
   "metadata": {
    "ExecuteTime": {
     "end_time": "2024-12-22T03:47:22.905749Z",
     "start_time": "2024-12-22T03:47:22.896768Z"
    }
   },
   "source": [
    "tensor2d.view(3, 2)"
   ],
   "outputs": [
    {
     "data": {
      "text/plain": [
       "tensor([[1, 2],\n",
       "        [3, 4],\n",
       "        [5, 6]])"
      ]
     },
     "execution_count": 32,
     "metadata": {},
     "output_type": "execute_result"
    }
   ],
   "execution_count": 32
  },
  {
   "metadata": {
    "ExecuteTime": {
     "end_time": "2024-12-22T03:47:35.155796Z",
     "start_time": "2024-12-22T03:47:35.143794Z"
    }
   },
   "cell_type": "code",
   "source": "tensor2d",
   "id": "70a9dcbd7e20f7c",
   "outputs": [
    {
     "data": {
      "text/plain": [
       "tensor([[1, 2, 3],\n",
       "        [4, 5, 6]])"
      ]
     },
     "execution_count": 33,
     "metadata": {},
     "output_type": "execute_result"
    }
   ],
   "execution_count": 33
  },
  {
   "cell_type": "code",
   "id": "344e307f-ba5d-4f9a-a791-2c75a3d1417e",
   "metadata": {
    "ExecuteTime": {
     "end_time": "2024-12-22T03:47:47.135861Z",
     "start_time": "2024-12-22T03:47:47.115789Z"
    }
   },
   "source": [
    "tensor2d.T"
   ],
   "outputs": [
    {
     "data": {
      "text/plain": [
       "tensor([[1, 4],\n",
       "        [2, 5],\n",
       "        [3, 6]])"
      ]
     },
     "execution_count": 34,
     "metadata": {},
     "output_type": "execute_result"
    }
   ],
   "execution_count": 34
  },
  {
   "metadata": {
    "ExecuteTime": {
     "end_time": "2024-12-22T03:47:51.708883Z",
     "start_time": "2024-12-22T03:47:51.695920Z"
    }
   },
   "cell_type": "code",
   "source": "tensor2d",
   "id": "34b916ae276a8960",
   "outputs": [
    {
     "data": {
      "text/plain": [
       "tensor([[1, 2, 3],\n",
       "        [4, 5, 6]])"
      ]
     },
     "execution_count": 35,
     "metadata": {},
     "output_type": "execute_result"
    }
   ],
   "execution_count": 35
  },
  {
   "cell_type": "code",
   "id": "19a75030-6a41-4ca8-9aae-c507ae79225c",
   "metadata": {
    "ExecuteTime": {
     "end_time": "2024-12-22T03:49:47.763343Z",
     "start_time": "2024-12-22T03:49:47.738371Z"
    }
   },
   "source": [
    "tensor2d.matmul(tensor2d.T)"
   ],
   "outputs": [
    {
     "data": {
      "text/plain": [
       "tensor([[14, 32],\n",
       "        [32, 77]])"
      ]
     },
     "execution_count": 36,
     "metadata": {},
     "output_type": "execute_result"
    }
   ],
   "execution_count": 36
  },
  {
   "cell_type": "code",
   "id": "e7c950bc-d640-4203-b210-3ac8932fe4d4",
   "metadata": {
    "ExecuteTime": {
     "end_time": "2024-12-22T03:49:54.991999Z",
     "start_time": "2024-12-22T03:49:54.975995Z"
    }
   },
   "source": [
    "tensor2d @ tensor2d.T"
   ],
   "outputs": [
    {
     "data": {
      "text/plain": [
       "tensor([[14, 32],\n",
       "        [32, 77]])"
      ]
     },
     "execution_count": 37,
     "metadata": {},
     "output_type": "execute_result"
    }
   ],
   "execution_count": 37
  },
  {
   "metadata": {
    "ExecuteTime": {
     "end_time": "2024-12-22T03:50:06.986476Z",
     "start_time": "2024-12-22T03:50:06.959875Z"
    }
   },
   "cell_type": "code",
   "source": "tensor2d @ tensor2d.T",
   "id": "474a761ed29c7b7",
   "outputs": [
    {
     "data": {
      "text/plain": [
       "tensor([[14, 32],\n",
       "        [32, 77]])"
      ]
     },
     "execution_count": 38,
     "metadata": {},
     "output_type": "execute_result"
    }
   ],
   "execution_count": 38
  },
  {
   "cell_type": "markdown",
   "id": "4c15bdeb-78e2-4870-8a4f-a9f591666f38",
   "metadata": {},
   "source": [
    "## A.3 Seeing models as computation graphs"
   ]
  },
  {
   "cell_type": "markdown",
   "id": "0f3e16c3-07df-44b6-9106-a42fb24452a9",
   "metadata": {},
   "source": "![Image](./7.jpg)"
  },
  {
   "cell_type": "code",
   "execution_count": 16,
   "id": "22af61e9-0443-4705-94d7-24c21add09c7",
   "metadata": {},
   "outputs": [
    {
     "name": "stdout",
     "output_type": "stream",
     "text": [
      "tensor(0.0852)\n"
     ]
    }
   ],
   "source": [
    "import torch.nn.functional as F\n",
    "\n",
    "y = torch.tensor([1.0])  # true label\n",
    "x1 = torch.tensor([1.1]) # input feature\n",
    "w1 = torch.tensor([2.2]) # weight parameter\n",
    "b = torch.tensor([0.0])  # bias unit\n",
    "\n",
    "z = x1 * w1 + b          # net input\n",
    "a = torch.sigmoid(z)     # activation & output\n",
    "\n",
    "loss = F.binary_cross_entropy(a, y)\n",
    "print(loss)"
   ]
  },
  {
   "metadata": {
    "ExecuteTime": {
     "end_time": "2024-12-22T03:51:28.548359Z",
     "start_time": "2024-12-22T03:51:28.534395Z"
    }
   },
   "cell_type": "code",
   "source": [
    "import torch.nn.functional as F\n",
    "\n",
    "y = torch.tensor([1.0])  # true label\n",
    "x1 = torch.tensor([1.1]) # input feature\n",
    "w1 = torch.tensor([2.2]) # weight parameter\n",
    "b = torch.tensor([0.0])  # bias unit"
   ],
   "id": "f3ad05abcb2ca4b7",
   "outputs": [],
   "execution_count": 39
  },
  {
   "metadata": {
    "ExecuteTime": {
     "end_time": "2024-12-22T03:51:59.408304Z",
     "start_time": "2024-12-22T03:51:59.397302Z"
    }
   },
   "cell_type": "code",
   "source": "z = x1 * w1 + b          # net input",
   "id": "48dffe626442e03d",
   "outputs": [],
   "execution_count": 40
  },
  {
   "metadata": {
    "ExecuteTime": {
     "end_time": "2024-12-22T03:52:06.707364Z",
     "start_time": "2024-12-22T03:52:06.694399Z"
    }
   },
   "cell_type": "code",
   "source": "z",
   "id": "f3d118bd6eea509d",
   "outputs": [
    {
     "data": {
      "text/plain": [
       "tensor([2.4200])"
      ]
     },
     "execution_count": 41,
     "metadata": {},
     "output_type": "execute_result"
    }
   ],
   "execution_count": 41
  },
  {
   "cell_type": "markdown",
   "id": "f9424f26-2bac-47e7-b834-92ece802247c",
   "metadata": {},
   "source": [
    "## A.4 Automatic differentiation made easy"
   ]
  },
  {
   "cell_type": "markdown",
   "id": "33aa2ee4-6f1d-448d-8707-67cd5278233c",
   "metadata": {},
   "source": "![Image](./8.jpg)"
  },
  {
   "metadata": {},
   "cell_type": "markdown",
   "source": "![Image](./801.jpg)",
   "id": "1805f4c2c739eb0d"
  },
  {
   "metadata": {},
   "cell_type": "markdown",
   "source": "![Image](./802.jpg)",
   "id": "185ebdf0dbc222c"
  },
  {
   "cell_type": "code",
   "id": "ebf5cef7-48d6-4d2a-8ab0-0fb10bdd7d1a",
   "metadata": {
    "ExecuteTime": {
     "end_time": "2024-12-22T05:52:20.751160Z",
     "start_time": "2024-12-22T05:52:19.910969Z"
    }
   },
   "source": [
    "import torch.nn.functional as F\n",
    "from torch.autograd import grad\n",
    "\n",
    "y = torch.tensor([1.0])\n",
    "x1 = torch.tensor([1.1])\n",
    "w1 = torch.tensor([2.2], requires_grad=True)\n",
    "b = torch.tensor([0.0], requires_grad=True)\n",
    "\n",
    "z = x1 * w1 + b \n",
    "a = torch.sigmoid(z)\n",
    "\n",
    "loss = F.binary_cross_entropy(a, y)\n",
    "\n",
    "grad_L_w1 = grad(loss, w1, retain_graph=True)\n",
    "grad_L_b = grad(loss, b, retain_graph=True)\n",
    "\n",
    "print(grad_L_w1)\n",
    "print(grad_L_b)"
   ],
   "outputs": [
    {
     "name": "stdout",
     "output_type": "stream",
     "text": [
      "(tensor([-0.0898]),)\n",
      "(tensor([-0.0817]),)\n"
     ]
    }
   ],
   "execution_count": 42
  },
  {
   "cell_type": "code",
   "id": "93c5875d-f6b2-492c-b5ef-7e132f93a4e0",
   "metadata": {
    "ExecuteTime": {
     "end_time": "2024-12-22T05:52:28.416986Z",
     "start_time": "2024-12-22T05:52:28.396042Z"
    }
   },
   "source": [
    "loss.backward()\n",
    "\n",
    "print(w1.grad)\n",
    "print(b.grad)"
   ],
   "outputs": [
    {
     "name": "stdout",
     "output_type": "stream",
     "text": [
      "tensor([-0.0898])\n",
      "tensor([-0.0817])\n"
     ]
    }
   ],
   "execution_count": 43
  },
  {
   "cell_type": "markdown",
   "id": "f53bdd7d-44e6-40ab-8a5a-4eef74ef35dc",
   "metadata": {},
   "source": [
    "## A.5 Implementing multilayer neural networks"
   ]
  },
  {
   "cell_type": "markdown",
   "id": "d6cb9787-2bc8-4379-9e8c-a3401ac63c51",
   "metadata": {},
   "source": "![Image](./9.jpg)"
  },
  {
   "cell_type": "code",
   "id": "84b749e1-7768-4cfe-94d6-a08c7feff4a1",
   "metadata": {
    "ExecuteTime": {
     "end_time": "2024-12-22T06:04:52.694135Z",
     "start_time": "2024-12-22T06:04:52.683164Z"
    }
   },
   "source": [
    "class NeuralNetwork(torch.nn.Module):\n",
    "    def __init__(self, num_inputs, num_outputs):\n",
    "        super().__init__()\n",
    "\n",
    "        self.layers = torch.nn.Sequential(\n",
    "                \n",
    "            # 1st hidden layer\n",
    "            # num_inputs 是输入数量   30 是输出数量。这是一个全连接层\n",
    "            torch.nn.Linear(num_inputs, 30),\n",
    "            torch.nn.ReLU(),\n",
    "\n",
    "            # 2nd hidden layer\n",
    "            torch.nn.Linear(30, 20),\n",
    "            torch.nn.ReLU(),\n",
    "\n",
    "            # output layer\n",
    "            torch.nn.Linear(20, num_outputs),\n",
    "        )\n",
    "\n",
    "    def forward(self, x):\n",
    "        logits = self.layers(x)\n",
    "        return logits"
   ],
   "outputs": [],
   "execution_count": 48
  },
  {
   "cell_type": "code",
   "id": "c5b59e2e-1930-456d-93b9-f69263e3adbe",
   "metadata": {
    "ExecuteTime": {
     "end_time": "2024-12-22T06:04:56.074616Z",
     "start_time": "2024-12-22T06:04:56.061650Z"
    }
   },
   "source": [
    "model = NeuralNetwork(50, 3)"
   ],
   "outputs": [],
   "execution_count": 49
  },
  {
   "cell_type": "code",
   "id": "39d02a21-33e7-4879-8fd2-d6309faf2f8d",
   "metadata": {
    "ExecuteTime": {
     "end_time": "2024-12-22T06:04:59.406568Z",
     "start_time": "2024-12-22T06:04:59.394601Z"
    }
   },
   "source": [
    "print(model)"
   ],
   "outputs": [
    {
     "name": "stdout",
     "output_type": "stream",
     "text": [
      "NeuralNetwork(\n",
      "  (layers): Sequential(\n",
      "    (0): Linear(in_features=50, out_features=30, bias=True)\n",
      "    (1): ReLU()\n",
      "    (2): Linear(in_features=30, out_features=20, bias=True)\n",
      "    (3): ReLU()\n",
      "    (4): Linear(in_features=20, out_features=3, bias=True)\n",
      "  )\n",
      ")\n"
     ]
    }
   ],
   "execution_count": 50
  },
  {
   "metadata": {
    "ExecuteTime": {
     "end_time": "2024-12-22T06:11:00.506293Z",
     "start_time": "2024-12-22T06:11:00.451437Z"
    }
   },
   "cell_type": "code",
   "source": [
    "i = 0 \n",
    "for p in model.parameters():\n",
    "    i += 1\n",
    "    print(type(p))\n",
    "    print(p.requires_grad)\n",
    "    print(p.numel())\n",
    "    print(p)\n",
    "print(i)"
   ],
   "id": "597a10ef226a9267",
   "outputs": [
    {
     "name": "stdout",
     "output_type": "stream",
     "text": [
      "<class 'torch.nn.parameter.Parameter'>\n",
      "True\n",
      "1500\n",
      "Parameter containing:\n",
      "tensor([[ 0.0677,  0.0086, -0.0741,  ..., -0.1046,  0.1408,  0.1019],\n",
      "        [-0.0324,  0.1358,  0.0095,  ...,  0.0430, -0.1269, -0.0782],\n",
      "        [ 0.0910, -0.0430, -0.0442,  ...,  0.0087, -0.1353, -0.0711],\n",
      "        ...,\n",
      "        [-0.0320, -0.0435, -0.0970,  ..., -0.1119,  0.0251,  0.0527],\n",
      "        [ 0.1393, -0.0044, -0.0240,  ..., -0.0360, -0.0036, -0.0016],\n",
      "        [-0.1209, -0.1191, -0.1216,  ..., -0.0050, -0.0347, -0.1341]],\n",
      "       requires_grad=True)\n",
      "<class 'torch.nn.parameter.Parameter'>\n",
      "True\n",
      "30\n",
      "Parameter containing:\n",
      "tensor([ 0.1385,  0.0941,  0.0103,  0.1255, -0.1317, -0.0609, -0.0820, -0.1224,\n",
      "        -0.0644,  0.1261,  0.0122,  0.0551, -0.1031,  0.0377,  0.0655, -0.0726,\n",
      "        -0.1406,  0.0861,  0.0394,  0.0279,  0.0753, -0.0614,  0.0473,  0.0985,\n",
      "         0.0246, -0.1161,  0.0816, -0.0435,  0.0480,  0.0685],\n",
      "       requires_grad=True)\n",
      "<class 'torch.nn.parameter.Parameter'>\n",
      "True\n",
      "600\n",
      "Parameter containing:\n",
      "tensor([[ 0.0251,  0.1675,  0.0368,  0.0572,  0.1703,  0.0175, -0.0373,  0.0704,\n",
      "          0.0035,  0.0960,  0.0775,  0.1428, -0.0039,  0.1260, -0.1150, -0.1306,\n",
      "         -0.0044,  0.0105,  0.1522,  0.0932,  0.1011, -0.0069,  0.1765,  0.0417,\n",
      "          0.0275, -0.1478,  0.1603,  0.1205,  0.0501,  0.1040],\n",
      "        [ 0.0761, -0.1710,  0.1202,  0.1569,  0.1576,  0.1260, -0.1214,  0.1625,\n",
      "         -0.0113,  0.0585,  0.1330, -0.1378,  0.0273, -0.0151,  0.1205, -0.0697,\n",
      "          0.0512, -0.1235,  0.1660, -0.0764,  0.1146,  0.0481,  0.0806, -0.1149,\n",
      "         -0.0529,  0.0590,  0.1466, -0.1086,  0.1394,  0.1374],\n",
      "        [ 0.1810,  0.1659, -0.1337, -0.1690, -0.1359,  0.0562, -0.1439, -0.1819,\n",
      "         -0.1423,  0.1801, -0.0906, -0.0867,  0.0192, -0.0245, -0.1710, -0.0591,\n",
      "         -0.0514,  0.1718,  0.1197,  0.0809, -0.0533,  0.0661,  0.0584, -0.0343,\n",
      "          0.0384,  0.0051,  0.1476,  0.1719, -0.1338,  0.0065],\n",
      "        [-0.0046,  0.0822, -0.0283,  0.1330,  0.0945,  0.1790, -0.0325, -0.0902,\n",
      "          0.0163, -0.1611,  0.0971,  0.0034, -0.1144,  0.1821, -0.0134,  0.0545,\n",
      "         -0.0668,  0.1560, -0.0621, -0.0600,  0.1696,  0.1099, -0.0141, -0.1535,\n",
      "          0.0832,  0.1598,  0.1313,  0.0932, -0.1140,  0.1535],\n",
      "        [ 0.1121,  0.1701,  0.0584, -0.1613,  0.1183, -0.1000, -0.1108, -0.0236,\n",
      "         -0.0951, -0.1563, -0.0947,  0.1345,  0.1097, -0.0480,  0.0680, -0.1480,\n",
      "          0.0059,  0.0414,  0.0484,  0.1084, -0.0129,  0.1745,  0.0769, -0.0726,\n",
      "          0.0122,  0.0810,  0.1456,  0.1724, -0.0906, -0.1822],\n",
      "        [ 0.0529,  0.1346, -0.1268,  0.1179,  0.1556,  0.0233, -0.0855, -0.0380,\n",
      "          0.1211,  0.0059,  0.0474,  0.0632,  0.1402, -0.1412, -0.1672, -0.0350,\n",
      "          0.0670,  0.1165,  0.0168,  0.1463,  0.0845, -0.0125,  0.1493,  0.1782,\n",
      "         -0.1663,  0.1494, -0.0795, -0.0296,  0.0629,  0.1107],\n",
      "        [ 0.0152, -0.1098, -0.0860, -0.0303, -0.1256,  0.0937,  0.0892,  0.0376,\n",
      "          0.0382,  0.1711, -0.0545, -0.0038, -0.0129,  0.1451,  0.0839, -0.0193,\n",
      "          0.1301,  0.1536,  0.1222,  0.1298, -0.1637,  0.1587,  0.1786,  0.0191,\n",
      "          0.0653, -0.1018,  0.0065,  0.0078,  0.1233, -0.1741],\n",
      "        [-0.1157, -0.0518,  0.1146, -0.1116,  0.1496,  0.1039,  0.0790,  0.0878,\n",
      "          0.1228, -0.1018, -0.1035,  0.0630,  0.1792, -0.0919,  0.0959, -0.1763,\n",
      "          0.0791,  0.0940,  0.0136, -0.0384, -0.1361,  0.1635, -0.0538, -0.1047,\n",
      "         -0.0818,  0.1823,  0.0505, -0.0959,  0.0212,  0.1352],\n",
      "        [-0.0488, -0.1320,  0.0100,  0.0334,  0.0655,  0.1296,  0.1799,  0.1617,\n",
      "         -0.0999, -0.0577, -0.1753,  0.1079, -0.1481,  0.0504,  0.1614, -0.1682,\n",
      "         -0.1677, -0.1434, -0.1472,  0.1373,  0.1152, -0.1787, -0.1162, -0.0502,\n",
      "         -0.1445,  0.1676, -0.1447, -0.1309, -0.0810,  0.0736],\n",
      "        [ 0.0829, -0.0466, -0.1003, -0.1230, -0.0798,  0.1706, -0.1134, -0.1426,\n",
      "         -0.1523,  0.1022, -0.1647,  0.1384,  0.0479,  0.0884,  0.1654,  0.1036,\n",
      "         -0.0300, -0.1282, -0.0846,  0.0326, -0.0161,  0.1637, -0.1437,  0.0707,\n",
      "          0.1541, -0.1309,  0.1327, -0.1470,  0.0797, -0.0263],\n",
      "        [ 0.0613,  0.1525,  0.1493, -0.0680,  0.0895,  0.0933,  0.1042, -0.0450,\n",
      "         -0.0666,  0.1030,  0.0061, -0.0756,  0.1185,  0.1119,  0.1143, -0.0963,\n",
      "         -0.0675,  0.1562,  0.0280, -0.1108, -0.1365,  0.0393,  0.0474,  0.1805,\n",
      "         -0.0528, -0.0766, -0.1057,  0.1396, -0.0034,  0.1715],\n",
      "        [ 0.1456,  0.1563, -0.0748,  0.0607,  0.0431,  0.0161,  0.1612,  0.1302,\n",
      "         -0.1410,  0.1435, -0.0664,  0.0185, -0.1772,  0.0434,  0.0918,  0.0758,\n",
      "         -0.0572, -0.1483,  0.1482,  0.0158,  0.1748, -0.0992,  0.0498, -0.1539,\n",
      "         -0.0726, -0.1795, -0.1207, -0.0336,  0.0097, -0.0494],\n",
      "        [ 0.1388,  0.1390,  0.1702, -0.0555,  0.0863, -0.0444,  0.1115, -0.1776,\n",
      "         -0.0762, -0.1814, -0.1802,  0.0627,  0.0335, -0.0596,  0.1324,  0.0313,\n",
      "          0.0734,  0.0031, -0.1219, -0.0970,  0.1193, -0.1800,  0.1782,  0.1223,\n",
      "         -0.0278,  0.0677, -0.1541,  0.1757,  0.0610, -0.0041],\n",
      "        [ 0.1097,  0.0220,  0.0777, -0.0369, -0.0613, -0.1633,  0.1549, -0.0533,\n",
      "          0.0633,  0.0237,  0.1770, -0.1614, -0.1096,  0.0025,  0.0327,  0.1713,\n",
      "          0.0048,  0.0300, -0.1103, -0.0885,  0.0641,  0.1562,  0.0667,  0.0302,\n",
      "         -0.0217, -0.1348, -0.0449, -0.1546, -0.0680, -0.0337],\n",
      "        [ 0.0363, -0.0378, -0.0350,  0.0749,  0.0637, -0.0898, -0.1743,  0.0205,\n",
      "          0.1401,  0.1821, -0.1137, -0.1574,  0.0980,  0.0665, -0.1109, -0.0893,\n",
      "          0.1643, -0.1261, -0.0349,  0.0824,  0.0921, -0.0047, -0.0145, -0.0791,\n",
      "         -0.0710,  0.1729,  0.0132, -0.1436, -0.0476, -0.0863],\n",
      "        [ 0.0863, -0.0764,  0.0387,  0.0692,  0.0321,  0.0183, -0.0533,  0.0694,\n",
      "         -0.1610,  0.1061,  0.0901, -0.0897,  0.0038,  0.0420,  0.0572,  0.1028,\n",
      "          0.0504,  0.0690,  0.1537, -0.0686,  0.0062, -0.1626,  0.1372, -0.1389,\n",
      "          0.0395,  0.1556,  0.0421, -0.0976,  0.1788, -0.0496],\n",
      "        [-0.0774,  0.0771, -0.0299,  0.1611, -0.1253,  0.0135,  0.1006,  0.1760,\n",
      "         -0.0492, -0.0085, -0.0058,  0.1818,  0.0699, -0.0282,  0.0945,  0.0900,\n",
      "          0.1007, -0.0077, -0.0815, -0.1741,  0.0372,  0.0097, -0.0048,  0.1708,\n",
      "          0.1107,  0.0402,  0.0633, -0.0375, -0.0963, -0.1242],\n",
      "        [-0.0463, -0.0200,  0.0696, -0.1138,  0.0773, -0.1599, -0.0052,  0.1790,\n",
      "          0.1680,  0.1546,  0.1105,  0.0010,  0.1306, -0.0539, -0.0443,  0.1496,\n",
      "         -0.1574, -0.0586, -0.1512,  0.1608,  0.0011, -0.0121,  0.0759,  0.1416,\n",
      "         -0.0525,  0.0341, -0.0695,  0.1265,  0.1479,  0.1482],\n",
      "        [-0.1170, -0.1802,  0.0518, -0.1513, -0.1622,  0.0027,  0.1666, -0.0015,\n",
      "         -0.0835, -0.0871, -0.0938, -0.1466,  0.1723, -0.0156, -0.0011,  0.0939,\n",
      "         -0.0249, -0.1770, -0.1356,  0.1271, -0.0017,  0.1013,  0.1473, -0.1128,\n",
      "         -0.0953, -0.0667, -0.0064, -0.0345,  0.1776, -0.0979],\n",
      "        [ 0.0948,  0.0349, -0.1325, -0.0579,  0.1628,  0.0099, -0.1516,  0.1381,\n",
      "          0.1781, -0.0182,  0.0822,  0.0665, -0.0507, -0.0664, -0.0533, -0.0970,\n",
      "          0.1514,  0.0785,  0.0441,  0.1051,  0.0747, -0.1108, -0.1575, -0.1395,\n",
      "         -0.1783,  0.0072,  0.0827, -0.1306, -0.1566, -0.0976]],\n",
      "       requires_grad=True)\n",
      "<class 'torch.nn.parameter.Parameter'>\n",
      "True\n",
      "20\n",
      "Parameter containing:\n",
      "tensor([ 0.1313,  0.1713,  0.1010, -0.0606, -0.0415, -0.1287,  0.0513, -0.1328,\n",
      "        -0.0739, -0.0055, -0.0347, -0.0390, -0.0171,  0.1240, -0.0584, -0.1532,\n",
      "        -0.1442,  0.0561, -0.1427, -0.1302], requires_grad=True)\n",
      "<class 'torch.nn.parameter.Parameter'>\n",
      "True\n",
      "60\n",
      "Parameter containing:\n",
      "tensor([[-0.1914, -0.1921, -0.0279, -0.1633,  0.1569, -0.1808, -0.0256, -0.0398,\n",
      "         -0.2004,  0.1355, -0.1202, -0.1651,  0.2150, -0.0613, -0.1947, -0.0734,\n",
      "          0.0198, -0.0678, -0.1200,  0.1323],\n",
      "        [ 0.1522,  0.0118, -0.0485,  0.0676, -0.0708, -0.0187, -0.0546, -0.2155,\n",
      "         -0.1599,  0.1126, -0.0408, -0.1994,  0.0066,  0.0957, -0.1952,  0.1276,\n",
      "          0.2220,  0.1714, -0.0305, -0.1580],\n",
      "        [-0.0537, -0.0107, -0.1423, -0.1286, -0.0501, -0.0337, -0.1121,  0.1454,\n",
      "         -0.2133, -0.0307,  0.0604,  0.0903, -0.0004,  0.2083, -0.0551, -0.2174,\n",
      "          0.2023, -0.0438, -0.0236,  0.0066]], requires_grad=True)\n",
      "<class 'torch.nn.parameter.Parameter'>\n",
      "True\n",
      "3\n",
      "Parameter containing:\n",
      "tensor([-0.1412,  0.0803, -0.0712], requires_grad=True)\n",
      "6\n"
     ]
    }
   ],
   "execution_count": 55
  },
  {
   "cell_type": "code",
   "id": "94535738-de02-4c2a-9b44-1cd186fa990a",
   "metadata": {
    "ExecuteTime": {
     "end_time": "2024-12-22T06:13:10.294836Z",
     "start_time": "2024-12-22T06:13:10.282868Z"
    }
   },
   "source": [
    "# p.numel() 是参数数量\n",
    "num_params = sum(p.numel() for p in model.parameters() if p.requires_grad)\n",
    "print(\"Total number of trainable model parameters:\", num_params)"
   ],
   "outputs": [
    {
     "name": "stdout",
     "output_type": "stream",
     "text": [
      "Total number of trainable model parameters: 2213\n"
     ]
    }
   ],
   "execution_count": 56
  },
  {
   "cell_type": "code",
   "id": "2c394106-ad71-4ccb-a3c9-9b60af3fa748",
   "metadata": {
    "ExecuteTime": {
     "end_time": "2024-12-22T06:13:37.567160Z",
     "start_time": "2024-12-22T06:13:37.541673Z"
    }
   },
   "source": [
    "print(model.layers[0].weight)\n",
    "print(len(model.layers[0].weight))"
   ],
   "outputs": [
    {
     "name": "stdout",
     "output_type": "stream",
     "text": [
      "Parameter containing:\n",
      "tensor([[ 0.0677,  0.0086, -0.0741,  ..., -0.1046,  0.1408,  0.1019],\n",
      "        [-0.0324,  0.1358,  0.0095,  ...,  0.0430, -0.1269, -0.0782],\n",
      "        [ 0.0910, -0.0430, -0.0442,  ...,  0.0087, -0.1353, -0.0711],\n",
      "        ...,\n",
      "        [-0.0320, -0.0435, -0.0970,  ..., -0.1119,  0.0251,  0.0527],\n",
      "        [ 0.1393, -0.0044, -0.0240,  ..., -0.0360, -0.0036, -0.0016],\n",
      "        [-0.1209, -0.1191, -0.1216,  ..., -0.0050, -0.0347, -0.1341]],\n",
      "       requires_grad=True)\n",
      "30\n"
     ]
    }
   ],
   "execution_count": 58
  },
  {
   "cell_type": "code",
   "id": "b201882b-9285-4db9-bb63-43afe6a2ff9e",
   "metadata": {
    "ExecuteTime": {
     "end_time": "2024-12-22T06:18:19.551048Z",
     "start_time": "2024-12-22T06:18:19.525120Z"
    }
   },
   "source": [
    "torch.manual_seed(123)\n",
    "\n",
    "model = NeuralNetwork(50, 3)\n",
    "print(model.layers[0].weight)\n",
    "print(model.layers[0].bias)\n",
    "print(type(model.layers[0].weight))"
   ],
   "outputs": [
    {
     "name": "stdout",
     "output_type": "stream",
     "text": [
      "Parameter containing:\n",
      "tensor([[-0.0577,  0.0047, -0.0702,  ...,  0.0222,  0.1260,  0.0865],\n",
      "        [ 0.0502,  0.0307,  0.0333,  ...,  0.0951,  0.1134, -0.0297],\n",
      "        [ 0.1077, -0.1108,  0.0122,  ...,  0.0108, -0.1049, -0.1063],\n",
      "        ...,\n",
      "        [-0.0787,  0.1259,  0.0803,  ...,  0.1218,  0.1303, -0.1351],\n",
      "        [ 0.1359,  0.0175, -0.0673,  ...,  0.0674,  0.0676,  0.1058],\n",
      "        [ 0.0790,  0.1343, -0.0293,  ...,  0.0344, -0.0971, -0.0509]],\n",
      "       requires_grad=True)\n",
      "Parameter containing:\n",
      "tensor([-0.1250,  0.0513,  0.0366,  0.0075,  0.0509,  0.0545, -0.0393,  0.0924,\n",
      "        -0.1412, -0.1232, -0.1063,  0.0081, -0.1249,  0.0101, -0.0019, -0.1298,\n",
      "         0.1388, -0.0330,  0.1017,  0.1247, -0.0554, -0.0417,  0.1388,  0.0159,\n",
      "         0.1215,  0.0385,  0.0769, -0.1224, -0.0279,  0.0991],\n",
      "       requires_grad=True)\n",
      "<class 'torch.nn.parameter.Parameter'>\n"
     ]
    }
   ],
   "execution_count": 60
  },
  {
   "cell_type": "code",
   "execution_count": 25,
   "id": "1da9a35e-44f3-460c-90fe-304519736fd6",
   "metadata": {},
   "outputs": [
    {
     "name": "stdout",
     "output_type": "stream",
     "text": [
      "torch.Size([30, 50])\n"
     ]
    }
   ],
   "source": [
    "print(model.layers[0].weight.shape)"
   ]
  },
  {
   "cell_type": "code",
   "id": "57eadbae-90fe-43a3-a33f-c23a095ba42a",
   "metadata": {
    "ExecuteTime": {
     "end_time": "2024-12-22T06:19:49.667111Z",
     "start_time": "2024-12-22T06:19:49.639188Z"
    }
   },
   "source": [
    "torch.manual_seed(123)\n",
    "\n",
    "X = torch.rand((1, 50))\n",
    "print(X.shape)\n",
    "out = model(X)\n",
    "print(out)\n",
    "print(out.shape)"
   ],
   "outputs": [
    {
     "name": "stdout",
     "output_type": "stream",
     "text": [
      "torch.Size([1, 50])\n",
      "tensor([[-0.1262,  0.1080, -0.1792]], grad_fn=<AddmmBackward0>)\n",
      "torch.Size([1, 3])\n"
     ]
    }
   ],
   "execution_count": 62
  },
  {
   "cell_type": "code",
   "execution_count": 27,
   "id": "48d720cb-ef73-4b7b-92e0-8198a072defd",
   "metadata": {},
   "outputs": [
    {
     "name": "stdout",
     "output_type": "stream",
     "text": [
      "tensor([[-0.1262,  0.1080, -0.1792]])\n"
     ]
    }
   ],
   "source": [
    "with torch.no_grad():\n",
    "    out = model(X)\n",
    "print(out)"
   ]
  },
  {
   "cell_type": "code",
   "execution_count": 28,
   "id": "10df3640-83c3-4061-a74d-08f07a5cc6ac",
   "metadata": {},
   "outputs": [
    {
     "name": "stdout",
     "output_type": "stream",
     "text": [
      "tensor([[0.3113, 0.3934, 0.2952]])\n"
     ]
    }
   ],
   "source": [
    "with torch.no_grad():\n",
    "    out = torch.softmax(model(X), dim=1)\n",
    "print(out)"
   ]
  },
  {
   "cell_type": "markdown",
   "id": "19858180-0f26-43a8-b2c3-7ed40abf9f85",
   "metadata": {},
   "source": [
    "## A.6 Setting up efficient data loaders"
   ]
  },
  {
   "cell_type": "markdown",
   "id": "0f98d8fc-5618-47a2-bc72-153818972a24",
   "metadata": {},
   "source": "![Image](./10.jpg)"
  },
  {
   "cell_type": "code",
   "id": "b9dc2745-8be8-4344-80ef-325f02cda7b7",
   "metadata": {
    "ExecuteTime": {
     "end_time": "2024-12-22T06:28:14.813485Z",
     "start_time": "2024-12-22T06:28:14.803511Z"
    }
   },
   "source": [
    "X_train = torch.tensor([\n",
    "    [-1.2, 3.1],\n",
    "    [-0.9, 2.9],\n",
    "    [-0.5, 2.6],\n",
    "    [2.3, -1.1],\n",
    "    [2.7, -1.5]\n",
    "])\n",
    "\n",
    "y_train = torch.tensor([0, 0, 0, 1, 1])"
   ],
   "outputs": [],
   "execution_count": 63
  },
  {
   "cell_type": "code",
   "id": "88283948-5fca-461a-98a1-788b6be191d5",
   "metadata": {
    "ExecuteTime": {
     "end_time": "2024-12-22T06:28:15.602396Z",
     "start_time": "2024-12-22T06:28:15.583447Z"
    }
   },
   "source": [
    "X_test = torch.tensor([\n",
    "    [-0.8, 2.8],\n",
    "    [2.6, -1.6],\n",
    "])\n",
    "\n",
    "y_test = torch.tensor([0, 1])"
   ],
   "outputs": [],
   "execution_count": 64
  },
  {
   "metadata": {
    "ExecuteTime": {
     "end_time": "2024-12-22T06:30:56.810056Z",
     "start_time": "2024-12-22T06:30:56.794100Z"
    }
   },
   "cell_type": "code",
   "source": [
    "print(y_train.shape)\n",
    "y_train.shape[0]"
   ],
   "id": "138017383f07668d",
   "outputs": [
    {
     "name": "stdout",
     "output_type": "stream",
     "text": [
      "torch.Size([5])\n"
     ]
    },
    {
     "data": {
      "text/plain": [
       "5"
      ]
     },
     "execution_count": 69,
     "metadata": {},
     "output_type": "execute_result"
    }
   ],
   "execution_count": 69
  },
  {
   "cell_type": "code",
   "id": "edf323e2-1789-41a0-8e44-f3cab16e5f5d",
   "metadata": {
    "ExecuteTime": {
     "end_time": "2024-12-22T06:32:36.550799Z",
     "start_time": "2024-12-22T06:32:36.538831Z"
    }
   },
   "source": [
    "from torch.utils.data import Dataset\n",
    "\n",
    "\n",
    "class ToyDataset(Dataset):\n",
    "    def __init__(self, X, y):\n",
    "        self.features = X\n",
    "        self.labels = y\n",
    "\n",
    "    def __getitem__(self, index):\n",
    "        one_x = self.features[index]\n",
    "        one_y = self.labels[index]        \n",
    "        return one_x, one_y\n",
    "\n",
    "    def __len__(self):\n",
    "        return self.labels.shape[0]\n",
    "\n",
    "train_ds = ToyDataset(X_train, y_train)\n",
    "test_ds = ToyDataset(X_test, y_test)"
   ],
   "outputs": [],
   "execution_count": 70
  },
  {
   "cell_type": "code",
   "id": "b7014705-1fdc-4f72-b892-d8db8bebc331",
   "metadata": {
    "ExecuteTime": {
     "end_time": "2024-12-22T06:33:04.599255Z",
     "start_time": "2024-12-22T06:33:04.589243Z"
    }
   },
   "source": [
    "len(train_ds)"
   ],
   "outputs": [
    {
     "data": {
      "text/plain": [
       "5"
      ]
     },
     "execution_count": 71,
     "metadata": {},
     "output_type": "execute_result"
    }
   ],
   "execution_count": 71
  },
  {
   "cell_type": "code",
   "id": "3ec6627a-4c3f-481a-b794-d2131be95eaf",
   "metadata": {
    "ExecuteTime": {
     "end_time": "2024-12-22T06:36:48.552370Z",
     "start_time": "2024-12-22T06:36:48.539405Z"
    }
   },
   "source": [
    "from torch.utils.data import DataLoader\n",
    "\n",
    "torch.manual_seed(123)\n",
    "\n",
    "train_loader = DataLoader(\n",
    "    dataset=train_ds,\n",
    "    batch_size=2,\n",
    "    shuffle=True,\n",
    "    num_workers=0\n",
    ")"
   ],
   "outputs": [],
   "execution_count": 72
  },
  {
   "cell_type": "code",
   "id": "8c9446de-5e4b-44fa-bf9a-a63e2661027e",
   "metadata": {
    "ExecuteTime": {
     "end_time": "2024-12-22T06:36:49.777882Z",
     "start_time": "2024-12-22T06:36:49.764917Z"
    }
   },
   "source": [
    "test_ds = ToyDataset(X_test, y_test)\n",
    "\n",
    "test_loader = DataLoader(\n",
    "    dataset=test_ds,\n",
    "    batch_size=2,\n",
    "    shuffle=False,\n",
    "    num_workers=0\n",
    ")"
   ],
   "outputs": [],
   "execution_count": 73
  },
  {
   "cell_type": "code",
   "id": "99d4404c-9884-419f-979c-f659742d86ef",
   "metadata": {
    "ExecuteTime": {
     "end_time": "2024-12-22T06:37:32.912351Z",
     "start_time": "2024-12-22T06:37:32.881923Z"
    }
   },
   "source": [
    "for idx, (x, y) in enumerate(train_loader):\n",
    "    print(f\"Batch {idx+1}:\", x, y)"
   ],
   "outputs": [
    {
     "name": "stdout",
     "output_type": "stream",
     "text": [
      "Batch 1: tensor([[ 2.3000, -1.1000],\n",
      "        [-0.9000,  2.9000]]) tensor([1, 0])\n",
      "Batch 2: tensor([[-1.2000,  3.1000],\n",
      "        [-0.5000,  2.6000]]) tensor([0, 0])\n",
      "Batch 3: tensor([[ 2.7000, -1.5000]]) tensor([1])\n"
     ]
    }
   ],
   "execution_count": 74
  },
  {
   "cell_type": "code",
   "id": "9d003f7e-7a80-40bf-a7fb-7a0d7dbba9db",
   "metadata": {
    "ExecuteTime": {
     "end_time": "2024-12-22T06:37:55.487712Z",
     "start_time": "2024-12-22T06:37:55.474743Z"
    }
   },
   "source": [
    "train_loader = DataLoader(\n",
    "    dataset=train_ds,\n",
    "    batch_size=2,\n",
    "    shuffle=True,\n",
    "    num_workers=0,\n",
    "    drop_last=True\n",
    ")"
   ],
   "outputs": [],
   "execution_count": 75
  },
  {
   "cell_type": "code",
   "id": "4db4d7f4-82da-44a4-b94e-ee04665d9c3c",
   "metadata": {
    "ExecuteTime": {
     "end_time": "2024-12-22T06:37:56.567480Z",
     "start_time": "2024-12-22T06:37:56.553518Z"
    }
   },
   "source": [
    "for idx, (x, y) in enumerate(train_loader):\n",
    "    print(f\"Batch {idx+1}:\", x, y)"
   ],
   "outputs": [
    {
     "name": "stdout",
     "output_type": "stream",
     "text": [
      "Batch 1: tensor([[-1.2000,  3.1000],\n",
      "        [-0.5000,  2.6000]]) tensor([0, 0])\n",
      "Batch 2: tensor([[ 2.3000, -1.1000],\n",
      "        [-0.9000,  2.9000]]) tensor([1, 0])\n"
     ]
    }
   ],
   "execution_count": 76
  },
  {
   "cell_type": "markdown",
   "id": "eb03ed57-df38-4ee0-a553-0863450df39b",
   "metadata": {},
   "source": "![Image](./11.jpg)"
  },
  {
   "cell_type": "markdown",
   "id": "d904ca82-e50f-4f3d-a3ac-fc6ca53dd00e",
   "metadata": {},
   "source": [
    "## A.7 A typical training loop"
   ]
  },
  {
   "cell_type": "code",
   "execution_count": 38,
   "id": "93f1791a-d887-4fc5-a307-5e5bde9e06f6",
   "metadata": {},
   "outputs": [
    {
     "name": "stdout",
     "output_type": "stream",
     "text": [
      "Epoch: 001/003 | Batch 000/002 | Train/Val Loss: 0.75\n",
      "Epoch: 001/003 | Batch 001/002 | Train/Val Loss: 0.65\n",
      "Epoch: 002/003 | Batch 000/002 | Train/Val Loss: 0.44\n",
      "Epoch: 002/003 | Batch 001/002 | Train/Val Loss: 0.13\n",
      "Epoch: 003/003 | Batch 000/002 | Train/Val Loss: 0.03\n",
      "Epoch: 003/003 | Batch 001/002 | Train/Val Loss: 0.00\n"
     ]
    }
   ],
   "source": [
    "import torch.nn.functional as F\n",
    "\n",
    "\n",
    "torch.manual_seed(123)\n",
    "model = NeuralNetwork(num_inputs=2, num_outputs=2)\n",
    "optimizer = torch.optim.SGD(model.parameters(), lr=0.5)\n",
    "\n",
    "num_epochs = 3\n",
    "\n",
    "for epoch in range(num_epochs):\n",
    "    \n",
    "    model.train()\n",
    "    for batch_idx, (features, labels) in enumerate(train_loader):\n",
    "\n",
    "        logits = model(features)\n",
    "        \n",
    "        loss = F.cross_entropy(logits, labels) # Loss function\n",
    "        \n",
    "        optimizer.zero_grad()\n",
    "        loss.backward()\n",
    "        optimizer.step()\n",
    "    \n",
    "        ### LOGGING\n",
    "        print(f\"Epoch: {epoch+1:03d}/{num_epochs:03d}\"\n",
    "              f\" | Batch {batch_idx:03d}/{len(train_loader):03d}\"\n",
    "              f\" | Train/Val Loss: {loss:.2f}\")\n",
    "\n",
    "    model.eval()\n",
    "    # Optional model evaluation"
   ]
  },
  {
   "cell_type": "code",
   "execution_count": 39,
   "id": "00dcf57f-6a7e-4af7-aa5a-df2cb0866fa5",
   "metadata": {},
   "outputs": [
    {
     "name": "stdout",
     "output_type": "stream",
     "text": [
      "tensor([[ 2.8569, -4.1618],\n",
      "        [ 2.5382, -3.7548],\n",
      "        [ 2.0944, -3.1820],\n",
      "        [-1.4814,  1.4816],\n",
      "        [-1.7176,  1.7342]])\n"
     ]
    }
   ],
   "source": [
    "model.eval()\n",
    "\n",
    "with torch.no_grad():\n",
    "    outputs = model(X_train)\n",
    "\n",
    "print(outputs)"
   ]
  },
  {
   "cell_type": "code",
   "execution_count": 40,
   "id": "19be7390-18b8-43f9-9841-d7fb1919f6fd",
   "metadata": {},
   "outputs": [
    {
     "name": "stdout",
     "output_type": "stream",
     "text": [
      "tensor([[    0.9991,     0.0009],\n",
      "        [    0.9982,     0.0018],\n",
      "        [    0.9949,     0.0051],\n",
      "        [    0.0491,     0.9509],\n",
      "        [    0.0307,     0.9693]])\n",
      "tensor([0, 0, 0, 1, 1])\n"
     ]
    }
   ],
   "source": [
    "torch.set_printoptions(sci_mode=False)\n",
    "probas = torch.softmax(outputs, dim=1)\n",
    "print(probas)\n",
    "\n",
    "predictions = torch.argmax(probas, dim=1)\n",
    "print(predictions)"
   ]
  },
  {
   "cell_type": "code",
   "execution_count": 41,
   "id": "07e7e530-f8d3-429c-9f5e-cf8078078c0e",
   "metadata": {},
   "outputs": [
    {
     "name": "stdout",
     "output_type": "stream",
     "text": [
      "tensor([0, 0, 0, 1, 1])\n"
     ]
    }
   ],
   "source": [
    "predictions = torch.argmax(outputs, dim=1)\n",
    "print(predictions)"
   ]
  },
  {
   "cell_type": "code",
   "execution_count": 42,
   "id": "5f756f0d-63c8-41b5-a5d8-01baa847e026",
   "metadata": {},
   "outputs": [
    {
     "data": {
      "text/plain": [
       "tensor([True, True, True, True, True])"
      ]
     },
     "execution_count": 42,
     "metadata": {},
     "output_type": "execute_result"
    }
   ],
   "source": [
    "predictions == y_train"
   ]
  },
  {
   "cell_type": "code",
   "execution_count": 43,
   "id": "da274bb0-f11c-4c81-a880-7a031fbf2943",
   "metadata": {},
   "outputs": [
    {
     "data": {
      "text/plain": [
       "tensor(5)"
      ]
     },
     "execution_count": 43,
     "metadata": {},
     "output_type": "execute_result"
    }
   ],
   "source": [
    "torch.sum(predictions == y_train)"
   ]
  },
  {
   "cell_type": "code",
   "execution_count": 44,
   "id": "16d62314-8dee-45b0-8f55-9e5aae2b24f4",
   "metadata": {},
   "outputs": [],
   "source": [
    "def compute_accuracy(model, dataloader):\n",
    "\n",
    "    model = model.eval()\n",
    "    correct = 0.0\n",
    "    total_examples = 0\n",
    "    \n",
    "    for idx, (features, labels) in enumerate(dataloader):\n",
    "        \n",
    "        with torch.no_grad():\n",
    "            logits = model(features)\n",
    "        \n",
    "        predictions = torch.argmax(logits, dim=1)\n",
    "        compare = labels == predictions\n",
    "        correct += torch.sum(compare)\n",
    "        total_examples += len(compare)\n",
    "\n",
    "    return (correct / total_examples).item()"
   ]
  },
  {
   "cell_type": "code",
   "execution_count": 45,
   "id": "4f6c9c17-2a5f-46c0-804b-873f169b729a",
   "metadata": {},
   "outputs": [
    {
     "data": {
      "text/plain": [
       "1.0"
      ]
     },
     "execution_count": 45,
     "metadata": {},
     "output_type": "execute_result"
    }
   ],
   "source": [
    "compute_accuracy(model, train_loader)"
   ]
  },
  {
   "cell_type": "code",
   "execution_count": 46,
   "id": "311ed864-e21e-4aac-97c7-c6086caef27a",
   "metadata": {},
   "outputs": [
    {
     "data": {
      "text/plain": [
       "1.0"
      ]
     },
     "execution_count": 46,
     "metadata": {},
     "output_type": "execute_result"
    }
   ],
   "source": [
    "compute_accuracy(model, test_loader)"
   ]
  },
  {
   "cell_type": "markdown",
   "id": "4d5cd469-3a45-4394-944b-3ce543f41dac",
   "metadata": {},
   "source": [
    "## A.8 Saving and loading models"
   ]
  },
  {
   "cell_type": "code",
   "execution_count": 47,
   "id": "b013127d-a2c3-4b04-9fb3-a6a7c88d83c5",
   "metadata": {},
   "outputs": [],
   "source": [
    "torch.save(model.state_dict(), \"model.pth\")"
   ]
  },
  {
   "cell_type": "code",
   "execution_count": 48,
   "id": "b2b428c2-3a44-4d91-97c4-8298cf2b51eb",
   "metadata": {},
   "outputs": [
    {
     "data": {
      "text/plain": [
       "<All keys matched successfully>"
      ]
     },
     "execution_count": 48,
     "metadata": {},
     "output_type": "execute_result"
    }
   ],
   "source": [
    "model = NeuralNetwork(2, 2) # needs to match the original model exactly\n",
    "model.load_state_dict(torch.load(\"model.pth\", weights_only=True))"
   ]
  },
  {
   "cell_type": "markdown",
   "id": "f891c013-43da-4a05-973d-997be313d2d8",
   "metadata": {},
   "source": [
    "## A.9 Optimizing training performance with GPUs"
   ]
  },
  {
   "cell_type": "markdown",
   "id": "e68ae888-cabf-49c9-bad6-ecdce774db57",
   "metadata": {},
   "source": [
    "### A.9.1 PyTorch computations on GPU devices"
   ]
  },
  {
   "cell_type": "markdown",
   "id": "141c845f-efe3-4614-b376-b8b7a9a2c887",
   "metadata": {},
   "source": [
    "See [code-part2.ipynb](code-part2.ipynb)"
   ]
  },
  {
   "cell_type": "markdown",
   "id": "99811829-b817-42ea-b03e-d35374debcc0",
   "metadata": {},
   "source": [
    "### A.9.2 Single-GPU training"
   ]
  },
  {
   "cell_type": "markdown",
   "id": "0b21456c-4af7-440f-9e78-37770277b5bc",
   "metadata": {},
   "source": [
    "See [code-part2.ipynb](code-part2.ipynb)"
   ]
  },
  {
   "cell_type": "markdown",
   "id": "db6eb2d1-a341-4489-b04b-635c26945333",
   "metadata": {},
   "source": [
    "### A.9.3 Training with multiple GPUs"
   ]
  },
  {
   "cell_type": "markdown",
   "id": "9d049a81-5fb0-49b5-9d6a-17a9976d8520",
   "metadata": {},
   "source": [
    "See [DDP-script.py](DDP-script.py)"
   ]
  }
 ],
 "metadata": {
  "kernelspec": {
   "display_name": "Python 3.10.11",
   "language": "python",
   "name": "python310"
  },
  "language_info": {
   "codemirror_mode": {
    "name": "ipython",
    "version": 3
   },
   "file_extension": ".py",
   "mimetype": "text/x-python",
   "name": "python",
   "nbconvert_exporter": "python",
   "pygments_lexer": "ipython3",
   "version": "3.11.4"
  }
 },
 "nbformat": 4,
 "nbformat_minor": 5
}
